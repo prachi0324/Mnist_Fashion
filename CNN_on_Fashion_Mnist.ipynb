{
  "nbformat": 4,
  "nbformat_minor": 0,
  "metadata": {
    "colab": {
      "name": "CNN on Fashion Mnist.ipynb",
      "provenance": [],
      "collapsed_sections": []
    },
    "kernelspec": {
      "name": "python3",
      "display_name": "Python 3"
    },
    "language_info": {
      "name": "python"
    },
    "accelerator": "GPU"
  },
  "cells": [
    {
      "cell_type": "code",
      "metadata": {
        "colab": {
          "base_uri": "https://localhost:8080/"
        },
        "id": "GmdnTbtMiSYT",
        "outputId": "0c10580c-7eb9-4ace-8ac0-65050840babb"
      },
      "source": [
        "!pip install Keras-tuner"
      ],
      "execution_count": 1,
      "outputs": [
        {
          "output_type": "stream",
          "text": [
            "Collecting Keras-tuner\n",
            "\u001b[?25l  Downloading https://files.pythonhosted.org/packages/20/ec/1ef246787174b1e2bb591c95f29d3c1310070cad877824f907faba3dade9/keras-tuner-1.0.2.tar.gz (62kB)\n",
            "\r\u001b[K     |█████▏                          | 10kB 22.3MB/s eta 0:00:01\r\u001b[K     |██████████▍                     | 20kB 28.2MB/s eta 0:00:01\r\u001b[K     |███████████████▋                | 30kB 33.3MB/s eta 0:00:01\r\u001b[K     |████████████████████▉           | 40kB 28.3MB/s eta 0:00:01\r\u001b[K     |██████████████████████████      | 51kB 29.5MB/s eta 0:00:01\r\u001b[K     |███████████████████████████████▎| 61kB 32.0MB/s eta 0:00:01\r\u001b[K     |████████████████████████████████| 71kB 10.1MB/s \n",
            "\u001b[?25hRequirement already satisfied: packaging in /usr/local/lib/python3.7/dist-packages (from Keras-tuner) (20.9)\n",
            "Requirement already satisfied: future in /usr/local/lib/python3.7/dist-packages (from Keras-tuner) (0.16.0)\n",
            "Requirement already satisfied: numpy in /usr/local/lib/python3.7/dist-packages (from Keras-tuner) (1.19.5)\n",
            "Requirement already satisfied: tabulate in /usr/local/lib/python3.7/dist-packages (from Keras-tuner) (0.8.9)\n",
            "Collecting terminaltables\n",
            "  Downloading https://files.pythonhosted.org/packages/9b/c4/4a21174f32f8a7e1104798c445dacdc1d4df86f2f26722767034e4de4bff/terminaltables-3.1.0.tar.gz\n",
            "Collecting colorama\n",
            "  Downloading https://files.pythonhosted.org/packages/44/98/5b86278fbbf250d239ae0ecb724f8572af1c91f4a11edf4d36a206189440/colorama-0.4.4-py2.py3-none-any.whl\n",
            "Requirement already satisfied: tqdm in /usr/local/lib/python3.7/dist-packages (from Keras-tuner) (4.41.1)\n",
            "Requirement already satisfied: requests in /usr/local/lib/python3.7/dist-packages (from Keras-tuner) (2.23.0)\n",
            "Requirement already satisfied: scipy in /usr/local/lib/python3.7/dist-packages (from Keras-tuner) (1.4.1)\n",
            "Requirement already satisfied: scikit-learn in /usr/local/lib/python3.7/dist-packages (from Keras-tuner) (0.22.2.post1)\n",
            "Requirement already satisfied: pyparsing>=2.0.2 in /usr/local/lib/python3.7/dist-packages (from packaging->Keras-tuner) (2.4.7)\n",
            "Requirement already satisfied: chardet<4,>=3.0.2 in /usr/local/lib/python3.7/dist-packages (from requests->Keras-tuner) (3.0.4)\n",
            "Requirement already satisfied: certifi>=2017.4.17 in /usr/local/lib/python3.7/dist-packages (from requests->Keras-tuner) (2020.12.5)\n",
            "Requirement already satisfied: urllib3!=1.25.0,!=1.25.1,<1.26,>=1.21.1 in /usr/local/lib/python3.7/dist-packages (from requests->Keras-tuner) (1.24.3)\n",
            "Requirement already satisfied: idna<3,>=2.5 in /usr/local/lib/python3.7/dist-packages (from requests->Keras-tuner) (2.10)\n",
            "Requirement already satisfied: joblib>=0.11 in /usr/local/lib/python3.7/dist-packages (from scikit-learn->Keras-tuner) (1.0.1)\n",
            "Building wheels for collected packages: Keras-tuner, terminaltables\n",
            "  Building wheel for Keras-tuner (setup.py) ... \u001b[?25l\u001b[?25hdone\n",
            "  Created wheel for Keras-tuner: filename=keras_tuner-1.0.2-cp37-none-any.whl size=78938 sha256=e667cda4f5c66115e9720950b3bf93d9be17724c2db81b63401f242dc0e24b51\n",
            "  Stored in directory: /root/.cache/pip/wheels/bb/a1/8a/7c3de0efb3707a1701b36ebbfdbc4e67aedf6d4943a1f463d6\n",
            "  Building wheel for terminaltables (setup.py) ... \u001b[?25l\u001b[?25hdone\n",
            "  Created wheel for terminaltables: filename=terminaltables-3.1.0-cp37-none-any.whl size=15356 sha256=c435d5555abce01e7912ab7b6142ef2ed6552a3c946232211d94c900ef41b45a\n",
            "  Stored in directory: /root/.cache/pip/wheels/30/6b/50/6c75775b681fb36cdfac7f19799888ef9d8813aff9e379663e\n",
            "Successfully built Keras-tuner terminaltables\n",
            "Installing collected packages: terminaltables, colorama, Keras-tuner\n",
            "Successfully installed Keras-tuner-1.0.2 colorama-0.4.4 terminaltables-3.1.0\n"
          ],
          "name": "stdout"
        }
      ]
    },
    {
      "cell_type": "code",
      "metadata": {
        "id": "J42YYlnzjNOE"
      },
      "source": [
        "import tensorflow as tf\n",
        "from tensorflow import keras\n",
        "import numpy as np\n"
      ],
      "execution_count": 2,
      "outputs": []
    },
    {
      "cell_type": "code",
      "metadata": {
        "id": "1RnkkX32jNQ2"
      },
      "source": [
        "fashion_mnist = keras.datasets.fashion_mnist"
      ],
      "execution_count": 3,
      "outputs": []
    },
    {
      "cell_type": "code",
      "metadata": {
        "colab": {
          "base_uri": "https://localhost:8080/"
        },
        "id": "gZSXzHFfjNTj",
        "outputId": "cce31c4a-5dcf-4429-ff42-00927c3fcca0"
      },
      "source": [
        "(train_image, train_lables), (test_image, test_labels) = fashion_mnist.load_data()"
      ],
      "execution_count": 4,
      "outputs": [
        {
          "output_type": "stream",
          "text": [
            "Downloading data from https://storage.googleapis.com/tensorflow/tf-keras-datasets/train-labels-idx1-ubyte.gz\n",
            "32768/29515 [=================================] - 0s 0us/step\n",
            "Downloading data from https://storage.googleapis.com/tensorflow/tf-keras-datasets/train-images-idx3-ubyte.gz\n",
            "26427392/26421880 [==============================] - 0s 0us/step\n",
            "Downloading data from https://storage.googleapis.com/tensorflow/tf-keras-datasets/t10k-labels-idx1-ubyte.gz\n",
            "8192/5148 [===============================================] - 0s 0us/step\n",
            "Downloading data from https://storage.googleapis.com/tensorflow/tf-keras-datasets/t10k-images-idx3-ubyte.gz\n",
            "4423680/4422102 [==============================] - 0s 0us/step\n"
          ],
          "name": "stdout"
        }
      ]
    },
    {
      "cell_type": "code",
      "metadata": {
        "id": "Jd3Yywwqj7GX"
      },
      "source": [
        "train_image = train_image/255.0\n",
        "test_image = test_image/255.0"
      ],
      "execution_count": 5,
      "outputs": []
    },
    {
      "cell_type": "code",
      "metadata": {
        "colab": {
          "base_uri": "https://localhost:8080/"
        },
        "id": "9DPuETuNj7I1",
        "outputId": "ab17ed6e-e901-4876-f0c4-1a17585c34fb"
      },
      "source": [
        "train_image[0].shape"
      ],
      "execution_count": 6,
      "outputs": [
        {
          "output_type": "execute_result",
          "data": {
            "text/plain": [
              "(28, 28)"
            ]
          },
          "metadata": {
            "tags": []
          },
          "execution_count": 6
        }
      ]
    },
    {
      "cell_type": "code",
      "metadata": {
        "id": "6_OVu_TAj7LE"
      },
      "source": [
        "train_image = train_image.reshape(len(train_image),28,28,1)\n",
        "test_image = test_image.reshape(len(test_image),28,28,1)"
      ],
      "execution_count": 7,
      "outputs": []
    },
    {
      "cell_type": "code",
      "metadata": {
        "id": "futsnsoKkjNK"
      },
      "source": [
        "def build_model(hp):\n",
        "  model = keras.Sequential([\n",
        "                            keras.layers.Conv2D(filters=hp.Int(\"conv_1_filter\", min_value = 32, max_value = 128, step = 16), \n",
        "                                                kernel_size=hp.Choice(\"conv_1_kernel\", values = [3,5]), \n",
        "                                                activation='relu', \n",
        "                                                input_shape=(28, 28, 1)\n",
        "                                                ),\n",
        "                            keras.layers.Conv2D(filters=hp.Int(\"conv_2_filter\", min_value = 32, max_value = 64, step = 16), \n",
        "                                                kernel_size=hp.Choice(\"conv_2_kernel\", values = [3,5]), \n",
        "                                                activation='relu', \n",
        "                                                input_shape=(28, 28, 1)\n",
        "                                                ),\n",
        "                            keras.layers.Flatten(),\n",
        "                            keras.layers.Dense(\n",
        "                                units = hp.Int(\"dense_1_units\", min_value = 32, max_value = 128, step = 16),\n",
        "                                activation = 'relu'\n",
        "                            ),\n",
        "                            keras.layers.Dense(10, activation='softmax') #output_layer                            \n",
        "                            \n",
        "  ])\n",
        "  model.compile(optimizer = keras.optimizers.Adam(hp.Choice('learning_rate', values = [1e-2,1e-3])),\n",
        "                loss = 'sparse_categorical_crossentropy',\n",
        "                metrics = ['accuracy'])\n",
        "  return model\n"
      ],
      "execution_count": 8,
      "outputs": []
    },
    {
      "cell_type": "code",
      "metadata": {
        "id": "6ItAuLJIkjSu"
      },
      "source": [
        "from kerastuner import RandomSearch\n",
        "from kerastuner.engine.hyperparameters import HyperParameters"
      ],
      "execution_count": 9,
      "outputs": []
    },
    {
      "cell_type": "code",
      "metadata": {
        "id": "UL3mXaMFkjaJ"
      },
      "source": [
        "tuner_search = RandomSearch(build_model,\n",
        "                            objective = 'val_accuracy',\n",
        "                            max_trials = 5,\n",
        "                            directory = 'output',\n",
        "                            project_name = \"Mnist Fashion\"\n",
        "                            )"
      ],
      "execution_count": 10,
      "outputs": []
    },
    {
      "cell_type": "code",
      "metadata": {
        "colab": {
          "base_uri": "https://localhost:8080/"
        },
        "id": "1IaJJyWekjbT",
        "outputId": "bdf45186-2e48-4952-bb17-bb9cadcb1196"
      },
      "source": [
        "tuner_search.search(train_image, train_lables, epochs= 3, validation_split = 0.1)"
      ],
      "execution_count": 11,
      "outputs": [
        {
          "output_type": "stream",
          "text": [
            "Trial 5 Complete [00h 00m 41s]\n",
            "val_accuracy: 0.9071666598320007\n",
            "\n",
            "Best val_accuracy So Far: 0.9151666760444641\n",
            "Total elapsed time: 00h 03m 19s\n",
            "INFO:tensorflow:Oracle triggered exit\n"
          ],
          "name": "stdout"
        }
      ]
    },
    {
      "cell_type": "code",
      "metadata": {
        "id": "MvcWlRwekjft"
      },
      "source": [
        "model = tuner_search.get_best_models(num_models = 1)[0]"
      ],
      "execution_count": 12,
      "outputs": []
    },
    {
      "cell_type": "code",
      "metadata": {
        "colab": {
          "base_uri": "https://localhost:8080/"
        },
        "id": "gKeSwBw-kjhd",
        "outputId": "7ad8496f-3802-46be-a56e-590e9c1b5c26"
      },
      "source": [
        "model.summary()"
      ],
      "execution_count": 13,
      "outputs": [
        {
          "output_type": "stream",
          "text": [
            "Model: \"sequential\"\n",
            "_________________________________________________________________\n",
            "Layer (type)                 Output Shape              Param #   \n",
            "=================================================================\n",
            "conv2d (Conv2D)              (None, 26, 26, 96)        960       \n",
            "_________________________________________________________________\n",
            "conv2d_1 (Conv2D)            (None, 22, 22, 48)        115248    \n",
            "_________________________________________________________________\n",
            "flatten (Flatten)            (None, 23232)             0         \n",
            "_________________________________________________________________\n",
            "dense (Dense)                (None, 112)               2602096   \n",
            "_________________________________________________________________\n",
            "dense_1 (Dense)              (None, 10)                1130      \n",
            "=================================================================\n",
            "Total params: 2,719,434\n",
            "Trainable params: 2,719,434\n",
            "Non-trainable params: 0\n",
            "_________________________________________________________________\n"
          ],
          "name": "stdout"
        }
      ]
    }
  ]
}